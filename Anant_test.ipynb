{
 "cells": [
  {
   "cell_type": "code",
   "execution_count": 2,
   "id": "5d1127c7",
   "metadata": {},
   "outputs": [
    {
     "name": "stdout",
     "output_type": "stream",
     "text": [
      "Collecting combss\n",
      "  Downloading combss-1.0.3-py2.py3-none-any.whl.metadata (7.1 kB)\n",
      "Requirement already satisfied: numpy>=1.21.0 in c:\\users\\z5110079\\anaconda3\\lib\\site-packages (from combss) (1.26.4)\n",
      "Requirement already satisfied: scipy>=1.7.0 in c:\\users\\z5110079\\anaconda3\\lib\\site-packages (from combss) (1.12.0)\n",
      "Requirement already satisfied: scikit-learn>=1.0.0 in c:\\users\\z5110079\\anaconda3\\lib\\site-packages (from combss) (1.0.2)\n",
      "Requirement already satisfied: joblib>=0.11 in c:\\users\\z5110079\\appdata\\roaming\\python\\python39\\site-packages (from scikit-learn>=1.0.0->combss) (1.3.2)\n",
      "Requirement already satisfied: threadpoolctl>=2.0.0 in c:\\users\\z5110079\\anaconda3\\lib\\site-packages (from scikit-learn>=1.0.0->combss) (2.2.0)\n",
      "Downloading combss-1.0.3-py2.py3-none-any.whl (18 kB)\n",
      "Installing collected packages: combss\n",
      "Successfully installed combss-1.0.3\n",
      "Note: you may need to restart the kernel to use updated packages.\n"
     ]
    },
    {
     "name": "stderr",
     "output_type": "stream",
     "text": [
      "\n",
      "[notice] A new release of pip is available: 24.0 -> 25.1.1\n",
      "[notice] To update, run: python.exe -m pip install --upgrade pip\n"
     ]
    }
   ],
   "source": [
    "pip install combss"
   ]
  },
  {
   "cell_type": "code",
   "execution_count": 5,
   "id": "79431047",
   "metadata": {},
   "outputs": [],
   "source": [
    "import combss"
   ]
  },
  {
   "cell_type": "code",
   "execution_count": 6,
   "id": "bf095a1d",
   "metadata": {},
   "outputs": [],
   "source": [
    "# Instantiating an instance of the combss class\n",
    "optimiser = combss.linear.model()"
   ]
  },
  {
   "cell_type": "code",
   "execution_count": 7,
   "id": "5116e0ea",
   "metadata": {},
   "outputs": [
    {
     "name": "stdout",
     "output_type": "stream",
     "text": [
      "X_train shape: (140, 30), y_train shape: (140,)\n",
      "X_test shape: (60, 30), y_test shape: (60,)\n"
     ]
    }
   ],
   "source": [
    "import numpy as np\n",
    "from sklearn.model_selection import train_test_split\n",
    "\n",
    "# Parameters\n",
    "n_samples = 200      # total number of samples\n",
    "n_features = 30      # total number of predictors\n",
    "n_informative = 5    # number of non-zero coefficients\n",
    "noise_std = 1.0      # standard deviation of noise\n",
    "\n",
    "# Simulate sparse beta (true coefficients)\n",
    "np.random.seed(0)\n",
    "beta_true = np.zeros(n_features)\n",
    "nonzero_idx = np.random.choice(n_features, n_informative, replace=False)\n",
    "beta_true[nonzero_idx] = np.random.randn(n_informative)\n",
    "\n",
    "# Generate X and y\n",
    "X = np.random.randn(n_samples, n_features)\n",
    "y = X @ beta_true + np.random.randn(n_samples) * noise_std\n",
    "\n",
    "# Train-test split\n",
    "X_train, X_test, y_train, y_test = train_test_split(X, y, test_size=0.3, random_state=42)\n",
    "\n",
    "# Optional: display shape\n",
    "print(f\"X_train shape: {X_train.shape}, y_train shape: {y_train.shape}\")\n",
    "print(f\"X_test shape: {X_test.shape}, y_test shape: {y_test.shape}\")\n"
   ]
  },
  {
   "cell_type": "code",
   "execution_count": 8,
   "id": "f5d3d46d",
   "metadata": {},
   "outputs": [
    {
     "data": {
      "text/plain": [
       "array([ 0.        ,  0.        ,  1.41437719,  0.        ,  0.        ,\n",
       "        0.        ,  0.        ,  0.        ,  0.        ,  0.        ,\n",
       "        0.22988654,  0.        ,  0.        ,  2.00815709,  0.        ,\n",
       "        0.        ,  0.        ,  0.        ,  0.        ,  0.        ,\n",
       "        0.        ,  0.        ,  0.        ,  0.        ,  0.        ,\n",
       "        0.        ,  0.60489373,  0.        , -0.12405066,  0.        ])"
      ]
     },
     "execution_count": 8,
     "metadata": {},
     "output_type": "execute_result"
    }
   ],
   "source": [
    "beta_true"
   ]
  },
  {
   "cell_type": "code",
   "execution_count": 9,
   "id": "4e968da4",
   "metadata": {},
   "outputs": [
    {
     "name": "stdout",
     "output_type": "stream",
     "text": [
      "Fitting the model ...\n",
      "Fitting is complete\n"
     ]
    }
   ],
   "source": [
    "# A sample usage of the commonly used arguments\n",
    "optimiser.fit(X_train=X_train, y_train=y_train, X_test=X_test, y_test=y_test, q=8, nlam=20, scaling=True)"
   ]
  },
  {
   "cell_type": "code",
   "execution_count": 11,
   "id": "560b21d2",
   "metadata": {},
   "outputs": [
    {
     "data": {
      "text/plain": [
       "array([0.        , 0.        , 1.3778326 , 0.        , 0.        ,\n",
       "       0.        , 0.        , 0.        , 0.        , 0.        ,\n",
       "       0.        , 0.        , 0.        , 2.07302232, 0.        ,\n",
       "       0.        , 0.        , 0.        , 0.        , 0.        ,\n",
       "       0.        , 0.        , 0.        , 0.        , 0.        ,\n",
       "       0.        , 0.63195227, 0.        , 0.        , 0.        ])"
      ]
     },
     "execution_count": 11,
     "metadata": {},
     "output_type": "execute_result"
    }
   ],
   "source": [
    "optimiser.coef_"
   ]
  },
  {
   "cell_type": "code",
   "execution_count": 13,
   "id": "2394c254",
   "metadata": {},
   "outputs": [
    {
     "data": {
      "text/plain": [
       "0.007852924866585153"
      ]
     },
     "execution_count": 13,
     "metadata": {},
     "output_type": "execute_result"
    }
   ],
   "source": [
    "optimiser.lambda_"
   ]
  },
  {
   "cell_type": "code",
   "execution_count": 15,
   "id": "9dab4dd6",
   "metadata": {},
   "outputs": [
    {
     "data": {
      "text/plain": [
       "[8.041395063383197,\n",
       " 4.0206975316915985,\n",
       " 2.0103487658457992,\n",
       " 1.0051743829228996,\n",
       " 0.5025871914614498,\n",
       " 0.2512935957307249,\n",
       " 0.12564679786536245,\n",
       " 0.1177938729987773,\n",
       " 0.09423509839902183,\n",
       " 0.047117549199510916,\n",
       " 0.04319108676621834,\n",
       " 0.10994094813219214,\n",
       " 0.06282339893268123,\n",
       " 0.011779387299877729,\n",
       " 0.009816156083231442,\n",
       " 0.03926462433292577,\n",
       " 0.015705849733170307,\n",
       " 0.03141169946634061,\n",
       " 0.007852924866585153,\n",
       " 0.008834540474908299,\n",
       " 0.00932534827906987]"
      ]
     },
     "execution_count": 15,
     "metadata": {},
     "output_type": "execute_result"
    }
   ],
   "source": [
    "optimiser.lambda_list"
   ]
  },
  {
   "cell_type": "code",
   "execution_count": 16,
   "id": "b3d7dbb6",
   "metadata": {},
   "outputs": [
    {
     "name": "stdout",
     "output_type": "stream",
     "text": [
      "Fitting the model ...\n",
      "Fitting is complete\n"
     ]
    }
   ],
   "source": [
    "# A sample usage of the commonly used arguments\n",
    "optimiser.fit(X_train=X_train, y_train=y_train, X_test=X_test, y_test=y_test, q = 8, nlam = 20, scaling=True)"
   ]
  },
  {
   "cell_type": "code",
   "execution_count": 17,
   "id": "75571bf1",
   "metadata": {},
   "outputs": [
    {
     "data": {
      "text/plain": [
       "array([ 2, 13, 26], dtype=int64)"
      ]
     },
     "execution_count": 17,
     "metadata": {},
     "output_type": "execute_result"
    }
   ],
   "source": [
    "optimiser.subset"
   ]
  },
  {
   "cell_type": "code",
   "execution_count": 18,
   "id": "500d12b4",
   "metadata": {},
   "outputs": [
    {
     "data": {
      "text/plain": [
       "1.4327512803436797"
      ]
     },
     "execution_count": 18,
     "metadata": {},
     "output_type": "execute_result"
    }
   ],
   "source": [
    "optimiser.mse"
   ]
  },
  {
   "cell_type": "code",
   "execution_count": 19,
   "id": "175e0d80",
   "metadata": {},
   "outputs": [
    {
     "data": {
      "text/plain": [
       "array([0.        , 0.        , 1.3778326 , 0.        , 0.        ,\n",
       "       0.        , 0.        , 0.        , 0.        , 0.        ,\n",
       "       0.        , 0.        , 0.        , 2.07302232, 0.        ,\n",
       "       0.        , 0.        , 0.        , 0.        , 0.        ,\n",
       "       0.        , 0.        , 0.        , 0.        , 0.        ,\n",
       "       0.        , 0.63195227, 0.        , 0.        , 0.        ])"
      ]
     },
     "execution_count": 19,
     "metadata": {},
     "output_type": "execute_result"
    }
   ],
   "source": [
    "optimiser.coef_"
   ]
  },
  {
   "cell_type": "code",
   "execution_count": 20,
   "id": "92bc2441",
   "metadata": {},
   "outputs": [
    {
     "data": {
      "text/plain": [
       "0.007852924866585153"
      ]
     },
     "execution_count": 20,
     "metadata": {},
     "output_type": "execute_result"
    }
   ],
   "source": [
    "optimiser.lambda_"
   ]
  },
  {
   "cell_type": "code",
   "execution_count": 21,
   "id": "73718924",
   "metadata": {},
   "outputs": [
    {
     "data": {
      "text/plain": [
       "4.109375"
      ]
     },
     "execution_count": 21,
     "metadata": {},
     "output_type": "execute_result"
    }
   ],
   "source": [
    "optimiser.run_time"
   ]
  },
  {
   "cell_type": "code",
   "execution_count": 22,
   "id": "8c8294cc",
   "metadata": {},
   "outputs": [
    {
     "data": {
      "text/plain": [
       "[8.041395063383197,\n",
       " 4.0206975316915985,\n",
       " 2.0103487658457992,\n",
       " 1.0051743829228996,\n",
       " 0.5025871914614498,\n",
       " 0.2512935957307249,\n",
       " 0.12564679786536245,\n",
       " 0.1177938729987773,\n",
       " 0.09423509839902183,\n",
       " 0.047117549199510916,\n",
       " 0.04319108676621834,\n",
       " 0.10994094813219214,\n",
       " 0.06282339893268123,\n",
       " 0.011779387299877729,\n",
       " 0.009816156083231442,\n",
       " 0.03926462433292577,\n",
       " 0.015705849733170307,\n",
       " 0.03141169946634061,\n",
       " 0.007852924866585153,\n",
       " 0.008834540474908299,\n",
       " 0.00932534827906987]"
      ]
     },
     "execution_count": 22,
     "metadata": {},
     "output_type": "execute_result"
    }
   ],
   "source": [
    "optimiser.lambda_list"
   ]
  },
  {
   "cell_type": "code",
   "execution_count": 23,
   "id": "a5cab776",
   "metadata": {},
   "outputs": [
    {
     "data": {
      "text/plain": [
       "[array([], dtype=int64),\n",
       " array([], dtype=int64),\n",
       " array([], dtype=int64),\n",
       " array([], dtype=int64),\n",
       " array([], dtype=int64),\n",
       " array([], dtype=int64),\n",
       " array([], dtype=int64),\n",
       " array([], dtype=int64),\n",
       " array([13], dtype=int64),\n",
       " array([13], dtype=int64),\n",
       " array([13], dtype=int64),\n",
       " array([13], dtype=int64),\n",
       " array([13], dtype=int64),\n",
       " array([ 2, 13], dtype=int64),\n",
       " array([ 2, 13], dtype=int64),\n",
       " array([ 2, 13], dtype=int64),\n",
       " array([ 2, 13], dtype=int64),\n",
       " array([ 2, 13], dtype=int64),\n",
       " array([ 2, 13, 26], dtype=int64),\n",
       " array([ 2, 13, 26], dtype=int64),\n",
       " array([ 2, 13, 26], dtype=int64)]"
      ]
     },
     "execution_count": 23,
     "metadata": {},
     "output_type": "execute_result"
    }
   ],
   "source": [
    "optimiser.subset_list"
   ]
  },
  {
   "cell_type": "code",
   "execution_count": null,
   "id": "9a7d6d39",
   "metadata": {},
   "outputs": [],
   "source": []
  }
 ],
 "metadata": {
  "kernelspec": {
   "display_name": "Python 3 (ipykernel)",
   "language": "python",
   "name": "python3"
  },
  "language_info": {
   "codemirror_mode": {
    "name": "ipython",
    "version": 3
   },
   "file_extension": ".py",
   "mimetype": "text/x-python",
   "name": "python",
   "nbconvert_exporter": "python",
   "pygments_lexer": "ipython3",
   "version": "3.9.13"
  }
 },
 "nbformat": 4,
 "nbformat_minor": 5
}
